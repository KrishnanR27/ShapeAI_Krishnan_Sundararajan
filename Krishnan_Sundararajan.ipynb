{
  "nbformat": 4,
  "nbformat_minor": 0,
  "metadata": {
    "colab": {
      "name": "Krishnan_Sundararajan.ipynb",
      "provenance": [],
      "collapsed_sections": []
    },
    "kernelspec": {
      "name": "python3",
      "display_name": "Python 3"
    },
    "language_info": {
      "name": "python"
    }
  },
  "cells": [
    {
      "cell_type": "code",
      "metadata": {
        "id": "akOp1N5EhD6z"
      },
      "source": [
        "from keras.datasets import mnist\n",
        "data = mnist.load_data()"
      ],
      "execution_count": 146,
      "outputs": []
    },
    {
      "cell_type": "code",
      "metadata": {
        "id": "q4Ce4Xq6NCax"
      },
      "source": [
        " ( (X_train,y_train),  (X_test,y_test) ) = data"
      ],
      "execution_count": 147,
      "outputs": []
    },
    {
      "cell_type": "code",
      "metadata": {
        "id": "4_XW-GSNPi9k",
        "colab": {
          "base_uri": "https://localhost:8080/"
        },
        "outputId": "4a109467-c9c7-4f0b-ea46-bf605847023d"
      },
      "source": [
        "X_train[0].shape"
      ],
      "execution_count": 148,
      "outputs": [
        {
          "output_type": "execute_result",
          "data": {
            "text/plain": [
              "(28, 28)"
            ]
          },
          "metadata": {
            "tags": []
          },
          "execution_count": 148
        }
      ]
    },
    {
      "cell_type": "code",
      "metadata": {
        "id": "WFYCwyZFTuB8",
        "colab": {
          "base_uri": "https://localhost:8080/"
        },
        "outputId": "e8c35ba0-72db-4410-9dfe-12f09445a310"
      },
      "source": [
        "X_train.shape"
      ],
      "execution_count": 149,
      "outputs": [
        {
          "output_type": "execute_result",
          "data": {
            "text/plain": [
              "(60000, 28, 28)"
            ]
          },
          "metadata": {
            "tags": []
          },
          "execution_count": 149
        }
      ]
    },
    {
      "cell_type": "code",
      "metadata": {
        "id": "VmjLYF2cQ_Xg"
      },
      "source": [
        " # Reshape the Training Data\n",
        " X_train = X_train.reshape ( (X_train.shape[0], 28*28) ) . astype('float32')\n",
        " X_test = X_test.reshape( (X_test.shape[0], 28*28) ) . astype('float32')"
      ],
      "execution_count": 150,
      "outputs": []
    },
    {
      "cell_type": "code",
      "metadata": {
        "id": "Qow1nXH3Vhd1"
      },
      "source": [
        "# Normalizing Values from 0-255 to 0-1\n",
        "X_train = X_train/255\n",
        "X_test = X_test/255\n",
        " "
      ],
      "execution_count": 151,
      "outputs": []
    },
    {
      "cell_type": "code",
      "metadata": {
        "id": "DumRYtB9V7Ng",
        "colab": {
          "base_uri": "https://localhost:8080/"
        },
        "outputId": "5371d5a8-e655-4852-99b5-2bb4add792f2"
      },
      "source": [
        " from keras.utils import np_utils\n",
        " \n",
        " print(y_test.shape)\n",
        " \n",
        " y_train = np_utils.to_categorical(y_train)\n",
        " y_test = np_utils.to_categorical(y_test)\n",
        " num_classes = y_test.shape[1]\n",
        " print(num_classes)"
      ],
      "execution_count": 152,
      "outputs": [
        {
          "output_type": "stream",
          "text": [
            "(10000,)\n",
            "10\n"
          ],
          "name": "stdout"
        }
      ]
    },
    {
      "cell_type": "code",
      "metadata": {
        "id": "5mmvwu0PaglG"
      },
      "source": [
        "from keras.models import Sequential\n",
        "from keras.layers import Dense"
      ],
      "execution_count": 153,
      "outputs": []
    },
    {
      "cell_type": "code",
      "metadata": {
        "id": "469_ajgEbM-b"
      },
      "source": [
        "\n",
        "model = Sequential()\n",
        "\n",
        "model.add(Dense(32, input_dim=28*28, activation='relu'))\n",
        "\n",
        "model.add(Dense(64, activation ='relu'))\n",
        "\n",
        "model.add(Dense(10, activation ='softmax'))"
      ],
      "execution_count": 154,
      "outputs": []
    },
    {
      "cell_type": "code",
      "metadata": {
        "id": "07HxyQladNbi"
      },
      "source": [
        "model.compile(loss ='categorical_crossentropy', optimizer = 'adam', metrics =['accuracy'])"
      ],
      "execution_count": 155,
      "outputs": []
    },
    {
      "cell_type": "code",
      "metadata": {
        "colab": {
          "base_uri": "https://localhost:8080/"
        },
        "id": "OaH2F0n0gx1Y",
        "outputId": "54b67288-7348-406f-9d92-a13cb4e41a06"
      },
      "source": [
        "model.summary()"
      ],
      "execution_count": 156,
      "outputs": [
        {
          "output_type": "stream",
          "text": [
            "Model: \"sequential_11\"\n",
            "_________________________________________________________________\n",
            "Layer (type)                 Output Shape              Param #   \n",
            "=================================================================\n",
            "dense_33 (Dense)             (None, 32)                25120     \n",
            "_________________________________________________________________\n",
            "dense_34 (Dense)             (None, 64)                2112      \n",
            "_________________________________________________________________\n",
            "dense_35 (Dense)             (None, 10)                650       \n",
            "=================================================================\n",
            "Total params: 27,882\n",
            "Trainable params: 27,882\n",
            "Non-trainable params: 0\n",
            "_________________________________________________________________\n"
          ],
          "name": "stdout"
        }
      ]
    },
    {
      "cell_type": "code",
      "metadata": {
        "colab": {
          "base_uri": "https://localhost:8080/"
        },
        "id": "5I_uOjl4jfD9",
        "outputId": "81d815ff-7036-44f7-9b9a-6cec31a159db"
      },
      "source": [
        "model.fit(X_train , y_train , epochs=10 , batch_size=100)"
      ],
      "execution_count": 157,
      "outputs": [
        {
          "output_type": "stream",
          "text": [
            "Epoch 1/10\n",
            "600/600 [==============================] - 2s 2ms/step - loss: 0.7867 - accuracy: 0.7735\n",
            "Epoch 2/10\n",
            "600/600 [==============================] - 1s 2ms/step - loss: 0.2127 - accuracy: 0.9391\n",
            "Epoch 3/10\n",
            "600/600 [==============================] - 1s 2ms/step - loss: 0.1561 - accuracy: 0.9551\n",
            "Epoch 4/10\n",
            "600/600 [==============================] - 1s 2ms/step - loss: 0.1288 - accuracy: 0.9611\n",
            "Epoch 5/10\n",
            "600/600 [==============================] - 1s 2ms/step - loss: 0.1156 - accuracy: 0.9655\n",
            "Epoch 6/10\n",
            "600/600 [==============================] - 1s 2ms/step - loss: 0.1017 - accuracy: 0.9698\n",
            "Epoch 7/10\n",
            "600/600 [==============================] - 1s 2ms/step - loss: 0.0902 - accuracy: 0.9722\n",
            "Epoch 8/10\n",
            "600/600 [==============================] - 1s 2ms/step - loss: 0.0814 - accuracy: 0.9748\n",
            "Epoch 9/10\n",
            "600/600 [==============================] - 1s 2ms/step - loss: 0.0722 - accuracy: 0.9778\n",
            "Epoch 10/10\n",
            "600/600 [==============================] - 1s 2ms/step - loss: 0.0649 - accuracy: 0.9799\n"
          ],
          "name": "stdout"
        },
        {
          "output_type": "execute_result",
          "data": {
            "text/plain": [
              "<tensorflow.python.keras.callbacks.History at 0x7f2967e31c50>"
            ]
          },
          "metadata": {
            "tags": []
          },
          "execution_count": 157
        }
      ]
    },
    {
      "cell_type": "code",
      "metadata": {
        "colab": {
          "base_uri": "https://localhost:8080/"
        },
        "id": "s3q9bz8xkhuU",
        "outputId": "36d9352f-99f4-477e-f9b9-65fcdce8fd69"
      },
      "source": [
        "scores = model.evaluate(X_test, y_test)\n",
        "print(scores)"
      ],
      "execution_count": 158,
      "outputs": [
        {
          "output_type": "stream",
          "text": [
            "313/313 [==============================] - 0s 1ms/step - loss: 0.1003 - accuracy: 0.9707\n",
            "[0.10031311959028244, 0.9707000255584717]\n"
          ],
          "name": "stdout"
        }
      ]
    }
  ]
}